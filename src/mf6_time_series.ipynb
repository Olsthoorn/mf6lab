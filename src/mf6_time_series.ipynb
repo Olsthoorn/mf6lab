{
 "cells": [
  {
   "cell_type": "markdown",
   "metadata": {},
   "source": [
    "# Flopy Tutorial on using time series in any package (chd, rch, etc).\n",
    "\n",
    "From the flopy 3.3.5 readthedocs documentation\n",
    "\n",
    "The idea here is to halp better understand the concept, which is very difficult from the origonal notebooks. Therefore, I added more text.\n",
    "\n",
    "#TO 2023-12-15"
   ]
  },
  {
   "cell_type": "code",
   "execution_count": 35,
   "metadata": {},
   "outputs": [],
   "source": [
    "# package import\n",
    "\n",
    "# import os\n",
    "# from pathlib import Path\n",
    "from tempfile import TemporaryDirectory\n",
    "import numpy as np\n",
    "import flopy\n",
    "from etc import attr"
   ]
  },
  {
   "cell_type": "code",
   "execution_count": 22,
   "metadata": {},
   "outputs": [],
   "source": [
    "# set up where simulation workspace will be stored\n",
    "temp_dir = TemporaryDirectory()\n",
    "workspace = temp_dir.name\n",
    "name = \"tutorial03_mf6_data\""
   ]
  },
  {
   "cell_type": "code",
   "execution_count": 23,
   "metadata": {},
   "outputs": [],
   "source": [
    "# create the flopy simulation and tdis objects\n",
    "sim = flopy.mf6.MFSimulation(\n",
    "    sim_name=name, exe_name=\"mf6\", version=\"mf6\", sim_ws=workspace\n",
    ")\n",
    "\n",
    "tdis_rc = [ (1.0, 1, 1.0),\n",
    "           (10.0, 5, 1.0),\n",
    "           (10.0, 5, 1.0),\n",
    "           (10.0, 1, 1.0)] # PERLEN, NSTEP, TSMULT\n",
    "\n",
    "tdis_package = flopy.mf6.modflow.mftdis.ModflowTdis(\n",
    "                sim, time_units=\"DAYS\",\n",
    "                nper=len(tdis_rc),\n",
    "                perioddata=tdis_rc\n",
    ")\n",
    "\n",
    "# create the Flopy groundwater flow (gwf) model object\n",
    "gwf = flopy.mf6.ModflowGwf(sim, \n",
    "                           modelname=name,\n",
    "                           model_nam_file=f\"{name}.nam\",\n",
    ")\n",
    "\n",
    "# create the flopy iterative model solver (ims) package object\n",
    "ims = flopy.mf6.modflow.mfims.ModflowIms(sim,\n",
    "                                         pname=\"ims\",\n",
    "                                         complexity=\"SIMPLE\",\n",
    ")\n",
    "\n",
    "# create the discretization package\n",
    "dis = flopy.mf6.modflow.mfgwfdis.ModflowGwfdis( gwf,\n",
    "    pname=\"dis\",\n",
    "    nogrb=True,\n",
    "    nlay=3,\n",
    "    nrow=101,\n",
    "    ncol=101,\n",
    "    delr=4,\n",
    "    delc=4,\n",
    "    top=0.0,\n",
    "    botm=np.linspace(-3.0, -50.0 / 3.0, 3),\n",
    ")\n",
    "\n",
    "# create the initial condition (ic)\n",
    "ic_package = flopy.mf6.modflow.mfgwfic.ModflowGwfic(gwf, strt=50.0)\n",
    "\n",
    "# create node property flow (npf) packages\n",
    "npf_package = flopy.mf6.modflow.mfgwfnpf.ModflowGwfnpf( gwf,\n",
    "    save_flows=True,\n",
    "    icelltype=[1, 0, 0],\n",
    "    k=[5.0, 0.1, 4.0],\n",
    "    k33=[0.5, 0.005, 0.1],\n",
    ")"
   ]
  },
  {
   "cell_type": "markdown",
   "metadata": {},
   "source": [
    "\n",
    "# Time Series Example 1\n",
    "\n",
    "One way to construct a time series is to pass the time series dictionary to the parent package constructor.\n",
    "\n",
    "This example uses time series data in a GHB package. First the GHB stress_period_data is built.\n",
    "\n",
    "The stress period data lists the cells for thie package and its data or the name of the time series instead.\n",
    "\n",
    "The stress period data with the name of the time series can not be linked to different stress periods as this\n",
    "is done internally by the chosen interpolation method. For a transient model, therefore, the dict of stress period data\n",
    "has only one entrance, i.e. zero, the first stress period."
   ]
  },
  {
   "cell_type": "code",
   "execution_count": 24,
   "metadata": {},
   "outputs": [],
   "source": [
    "# build ghb stress period data\n",
    "ghb_spd_ts = {}\n",
    "ghb_period = []\n",
    "\n",
    "for layer, cond in zip(range(1, 3), [15.0, 1500.0]):\n",
    "    for row in range(0, 15):\n",
    "        ghb_period.append(((layer, row, 9), \"tides\", cond, \"Estuary-L2\")) # cellid, tsname, cond, boundaryname for ref.\n",
    "\n",
    "# Due to using time series only the first stress period is used in the dictionary. If Transient, else just use the period data.\n",
    "ghb_spd_ts[0] = ghb_period"
   ]
  },
  {
   "cell_type": "markdown",
   "metadata": {},
   "source": [
    "## Build the time series\n",
    "\n",
    "The time series data is constructed as a list of tuples, each containing a time and the value (or values) at that time.\n",
    "\n",
    "The time series data is put in a dictionary along with additional time series information including filename, time_series_namerecord, interpolation_methodrecord, and sfacrecord."
   ]
  },
  {
   "cell_type": "code",
   "execution_count": 29,
   "metadata": {},
   "outputs": [],
   "source": [
    "# build ts data\n",
    "ts_data = []\n",
    "for n in range(0, 365):\n",
    "    time = float(n / 11.73)\n",
    "    val = float(n / 60.0)\n",
    "    ts_data.append((time, val))\n",
    "\n",
    "# TODO: Can this be an array?\n",
    "ts_data = np.vstack((np.arange(365.) / 11.73,\n",
    "                     np.arange(365.) / 60.0)).T\n",
    "    \n",
    "# Create the ts dictionary\n",
    "ts_dict = {\n",
    "    \"filename\": \"tides.ts\",\n",
    "    \"time_series_namerecord\": \"tide\",\n",
    "    \"timeseries\": ts_data,\n",
    "    \"interpolation_methodrecord\": \"linearend\",\n",
    "    \"sfacrecord\": 1.1,\n",
    "}"
   ]
  },
  {
   "cell_type": "markdown",
   "metadata": {},
   "source": [
    "## Build the GHB package\n",
    "\n",
    "The GHB package is then constructed, passing the time series data into the timeseries parameter.\n"
   ]
  },
  {
   "cell_type": "code",
   "execution_count": 41,
   "metadata": {},
   "outputs": [
    {
     "name": "stdout",
     "output_type": "stream",
     "text": [
      "WARNING: Unable to resolve dimension of ('ts', 'attributes', 'sfacrecord_single', 'sfacval') based on shape \"time_series_name\".\n",
      "WARNING: Unable to resolve dimension of ('ts', 'attributes', 'sfacrecord_single', 'sfacval') based on shape \"time_series_name\".\n"
     ]
    }
   ],
   "source": [
    "# build ghb package\n",
    "ghb = flopy.mf6.modflow.mfgwfghb.ModflowGwfghb(\n",
    "    gwf,\n",
    "    print_input=True,\n",
    "    print_flows=True,\n",
    "    save_flows=True,\n",
    "    boundnames=True,\n",
    "    timeseries=ts_dict,  # <---- here goes the time series dictionary.\n",
    "    pname=\"ghb\",\n",
    "    maxbound=30,\n",
    "    stress_period_data=ghb_spd_ts, # <---- here go the stress period data.\n",
    ")"
   ]
  },
  {
   "cell_type": "code",
   "execution_count": 42,
   "metadata": {},
   "outputs": [
    {
     "data": {
      "text/plain": [
       "['append_package', 'initialize', 'package_abbr']"
      ]
     },
     "execution_count": 42,
     "metadata": {},
     "output_type": "execute_result"
    }
   ],
   "source": [
    "# What's in ghb.ts?\n",
    "attr(ghb.ts)"
   ]
  },
  {
   "cell_type": "code",
   "execution_count": 43,
   "metadata": {},
   "outputs": [
    {
     "data": {
      "text/plain": [
       "['append_package', 'initialize', 'package_abbr']"
      ]
     },
     "execution_count": 43,
     "metadata": {},
     "output_type": "execute_result"
    }
   ],
   "source": [
    "# set required time series attributes\n",
    "ghb.ts.time_series_namerecord = \"tides\"\n",
    "\n",
    "attr(ghb.ts)"
   ]
  },
  {
   "cell_type": "code",
   "execution_count": 50,
   "metadata": {},
   "outputs": [
    {
     "name": "stdout",
     "output_type": "stream",
     "text": [
      "['append_package', 'initialize', 'package_abbr']\n",
      "Gazelle\n"
     ]
    },
    {
     "data": {
      "text/plain": [
       "{internal}\n",
       "(rec.array([('tides',)],\n",
       "          dtype=[('time_series_names', 'O')]))"
      ]
     },
     "execution_count": 50,
     "metadata": {},
     "output_type": "execute_result"
    }
   ],
   "source": [
    "ghb.ts.fiets='Koga'\n",
    "ghb.ts.step='Gazelle'\n",
    "print(attr(ghb.ts))   # New attributes do not show up.\n",
    "print(ghb.ts.step)           # However, they have  een stored in the object.\n",
    "ghb.ts.time_series_namerecord\n"
   ]
  },
  {
   "cell_type": "markdown",
   "metadata": {},
   "source": [
    "# Time Series Example 2\n",
    "\n",
    "Another way to construct a time series is to initialize the time series through the ghb.ts.initialize method.\n",
    "\n",
    "Additional time series can then be appended using the append_package method.\n",
    "\n",
    "\n",
    "## First the GHB stress period data is built."
   ]
  },
  {
   "cell_type": "code",
   "execution_count": 51,
   "metadata": {},
   "outputs": [],
   "source": [
    "# clean up for next example\n",
    "gwf.remove_package(\"ghb\")"
   ]
  },
  {
   "cell_type": "markdown",
   "metadata": {},
   "source": [
    "A ghb package is constructed **without the time series data**"
   ]
  },
  {
   "cell_type": "code",
   "execution_count": 52,
   "metadata": {},
   "outputs": [],
   "source": [
    "# build ghb package\n",
    "ghb = flopy.mf6.modflow.mfgwfghb.ModflowGwfghb( gwf,\n",
    "    print_input = True,\n",
    "    print_flows = True,\n",
    "    save_flows  = True,\n",
    "    boundnames  = True,\n",
    "    pname=\"ghb\",\n",
    "    maxbound=30, # is this kind of arbitrary ???\n",
    "    stress_period_data=ghb_spd_ts,\n",
    ")"
   ]
  },
  {
   "cell_type": "markdown",
   "metadata": {},
   "source": [
    "The the time series data are generated or obtained in any way."
   ]
  },
  {
   "cell_type": "code",
   "execution_count": 53,
   "metadata": {},
   "outputs": [],
   "source": [
    "# build ghb stress period data\n",
    "\n",
    "ghb_period = []\n",
    "\n",
    "for layer, cond in zip(range(1, 3), [15.0, 1500.0]):\n",
    "    for row in range(0, 15):\n",
    "        if row < 10:\n",
    "            ghb_period.append(((layer, row, 9), \"tides\", cond, \"Estuary-L2\"))\n",
    "        else:\n",
    "            ghb_period.append(((layer, row, 9), \"wl\", cond, \"Estuary-L2\"))\n",
    "            \n",
    "ghb_spd_ts = {0: ghb_period}  # if transient put in dict with key 0, else just set ghb_spd_ts = ghb_period"
   ]
  },
  {
   "cell_type": "markdown",
   "metadata": {},
   "source": [
    "Next the time series data is built.\n",
    "\n",
    "\n",
    "The time series data is constructed as a list of tuples, with each tuple containing a time and the value (or values) at that time.\n",
    "\n",
    "Or, equivalently as a 2D array where the first column is time and the second the data."
   ]
  },
  {
   "cell_type": "code",
   "execution_count": 54,
   "metadata": {},
   "outputs": [],
   "source": [
    "# build ts data\n",
    "ts_data = []\n",
    "\n",
    "for n in range(0, 365):\n",
    "    time = float(n / 11.73)\n",
    "    val = float(n / 60.0)\n",
    "    ts_data.append((time, val))\n",
    "\n",
    "ts_data2 = []\n",
    "for n in range(0, 365):\n",
    "    time = float(1.0 + (n / 12.01))\n",
    "    val = float(n / 60.0)\n",
    "    ts_data2.append((time, val))\n",
    "\n",
    "ts_data3 = []\n",
    "for n in range(0, 365):\n",
    "    time = float(10.0 + (n / 12.01))\n",
    "    val = float(n / 60.0)\n",
    "    ts_data3.append((time, val))\n",
    "    \n",
    "# Or as ndarrays\n",
    "ts_data1 = np.vstack((np.arange(365.) / 11.73, np.arange(365.) / 60.0)).T\n",
    "ts_data2 = np.vstack((np.arange(365.) / 12.01, np.arange(365.) / 60.0)).T\n",
    "ts_data3 = np.vstack((np.arange(365.) / 12.01, np.arange(365.) / 60.0)).T"
   ]
  },
  {
   "cell_type": "markdown",
   "metadata": {},
   "source": [
    "The first time series data are added by calling the **initialize** method from the ghb.ts object.\n",
    "\n",
    "Note that the time series data are just time series with addictioinal records for meta info regarding \n",
    "the series and pertaining to the packages to which they are connected. Many time series can be connected\n",
    "to every package. Even the same time series could be connected to different packages. They will be\n",
    "referenced in th stress period data by their name. The data itself is refferred to by the file name, as\n",
    "a file will be written for each time series."
   ]
  },
  {
   "cell_type": "code",
   "execution_count": 59,
   "metadata": {},
   "outputs": [
    {
     "name": "stdout",
     "output_type": "stream",
     "text": [
      "WARNING: Unable to resolve dimension of ('ts', 'attributes', 'sfacrecord_single', 'sfacval') based on shape \"time_series_name\".\n",
      "WARNING: Unable to resolve dimension of ('ts', 'attributes', 'sfacrecord_single', 'sfacval') based on shape \"time_series_name\".\n"
     ]
    }
   ],
   "source": [
    "# initialize first time series\n",
    "ghb.ts.initialize(\n",
    "    filename=\"tides.ts\",\n",
    "    timeseries=ts_data1,\n",
    "    time_series_namerecord=\"tides\",\n",
    "    interpolation_methodrecord=\"linearend\",\n",
    "    sfacrecord=1.1,\n",
    ")"
   ]
  },
  {
   "cell_type": "code",
   "execution_count": 60,
   "metadata": {},
   "outputs": [
    {
     "name": "stdout",
     "output_type": "stream",
     "text": [
      "WARNING: Unable to resolve dimension of ('ts', 'attributes', 'sfacrecord_single', 'sfacval') based on shape \"time_series_name\".\n",
      "WARNING: Unable to resolve dimension of ('ts', 'attributes', 'sfacrecord_single', 'sfacval') based on shape \"time_series_name\".\n",
      "WARNING: Unable to resolve dimension of ('ts', 'attributes', 'sfacrecord_single', 'sfacval') based on shape \"time_series_name\".\n",
      "WARNING: Unable to resolve dimension of ('ts', 'attributes', 'sfacrecord_single', 'sfacval') based on shape \"time_series_name\".\n"
     ]
    }
   ],
   "source": [
    "# append additional time series\n",
    "ghb.ts.append_package(\n",
    "    filename=\"wls.ts\",\n",
    "    timeseries=ts_data2,\n",
    "    time_series_namerecord=\"wl\",\n",
    "    interpolation_methodrecord=\"linear\", # Can be any string, checking is done only durung model run.\n",
    "    sfacrecord=1.2,\n",
    ")\n",
    "# append additional time series\n",
    "ghb.ts.append_package(\n",
    "    filename=\"wls2.ts\",\n",
    "    timeseries=ts_data3,\n",
    "    time_series_namerecord=\"wl2\",\n",
    "    interpolation_methodrecord=\"stepwise\",\n",
    "    sfacrecord=1.3,\n",
    ")"
   ]
  },
  {
   "cell_type": "markdown",
   "metadata": {},
   "source": [
    "Information can be retrieved from time series packages using the ts attribute of its parent package. Below the interpolation method record for each of the three time series are retrieved."
   ]
  },
  {
   "cell_type": "code",
   "execution_count": 61,
   "metadata": {},
   "outputs": [
    {
     "name": "stdout",
     "output_type": "stream",
     "text": [
      "tides.ts is using linearend interpolation\n",
      "wls.ts is using koga interpolation\n",
      "wls2.ts is using stepwise interpolation\n"
     ]
    }
   ],
   "source": [
    "print(\n",
    "    \"{} is using {} interpolation\".format(\n",
    "        ghb.ts[0].filename,\n",
    "        ghb.ts[0].interpolation_methodrecord.get_data()[0][0],\n",
    "    )\n",
    ")\n",
    "print(\n",
    "    \"{} is using {} interpolation\".format(\n",
    "        ghb.ts[1].filename,\n",
    "        ghb.ts[1].interpolation_methodrecord.get_data()[0][0],\n",
    "    )\n",
    ")\n",
    "print(\n",
    "    \"{} is using {} interpolation\".format(\n",
    "        ghb.ts[2].filename,\n",
    "        ghb.ts[2].interpolation_methodrecord.get_data()[0][0],\n",
    "    )\n",
    ")"
   ]
  },
  {
   "cell_type": "code",
   "execution_count": 58,
   "metadata": {},
   "outputs": [],
   "source": [
    "try:\n",
    "    temp_dir.cleanup()\n",
    "except PermissionError:\n",
    "    # can occur on windows: https://docs.python.org/3/library/tempfile.html#tempfile.TemporaryDirectory\n",
    "    pass\n"
   ]
  },
  {
   "cell_type": "markdown",
   "metadata": {},
   "source": []
  }
 ],
 "metadata": {
  "kernelspec": {
   "display_name": "flopy",
   "language": "python",
   "name": "python3"
  },
  "language_info": {
   "codemirror_mode": {
    "name": "ipython",
    "version": 3
   },
   "file_extension": ".py",
   "mimetype": "text/x-python",
   "name": "python",
   "nbconvert_exporter": "python",
   "pygments_lexer": "ipython3",
   "version": "3.10.2"
  }
 },
 "nbformat": 4,
 "nbformat_minor": 2
}
