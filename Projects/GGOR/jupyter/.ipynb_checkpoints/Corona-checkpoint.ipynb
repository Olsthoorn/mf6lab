{
 "cells": [
  {
   "cell_type": "markdown",
   "metadata": {},
   "source": [
    "# Corona analyse vals positief en vals negatief getest\n",
    "\n",
    "Stel:\n",
    "1. Onder de bevolking is bg [%] postief.\n",
    "2. N mensen worden gestest.\n",
    "3. fp [%] is de fractie vals positieven.\n",
    "4. fn [%] is de factie vals negatieven (18/1000 volgens Duits onderzoek)"
   ]
  },
  {
   "cell_type": "code",
   "execution_count": 1,
   "metadata": {},
   "outputs": [],
   "source": [
    "import numpy as np\n",
    "import matplotlib.pyplot as plt"
   ]
  },
  {
   "cell_type": "code",
   "execution_count": 6,
   "metadata": {},
   "outputs": [],
   "source": [
    "#N = 100000 # aantal getesten\n",
    "bg = 0.02 # besmettingsgraad\n",
    "vp = 0.02 # fractie vals positief\n",
    "vn = 0.02 # fractie vals negatief"
   ]
  },
  {
   "cell_type": "code",
   "execution_count": 16,
   "metadata": {},
   "outputs": [
    {
     "name": "stdout",
     "output_type": "stream",
     "text": [
      "P = 2.00%, N = 98.00%, Vp = 1.96%, Vn = 0.04%\n"
     ]
    }
   ],
   "source": [
    "P  =      bg  # Fractie van de bevolking dat positief is tijdens de test.\n",
    "N  = (1 - bg) # Fractie van de bevolking dat negatief is tijdens de test.\n",
    "Vp = N * vp   # Fractie van de getesten dat een vals positieve uitslag krijgt.\n",
    "Vn = P * vn   # Fractie van de getesten dat een vals negatieve uitslag krijgt.\n",
    "\n",
    "print(\"P = {:.2f}%, N = {:.2f}%, Vp = {:.2f}%, Vn = {:.2f}%\"\n",
    "                          .format(100 * P, 100 * N, 100 * Vp, 100 * Vn))"
   ]
  },
  {
   "cell_type": "markdown",
   "metadata": {},
   "source": [
    "Conclusie:\n",
    "\n",
    "De kans op een vals positieve uitslag is zowat evengroot als het percentage vals positieve tests. Er zouden in dit geval dus zo'n 2% van de mensen ten onrechte quarantaine moeten houden.\n",
    "De kans op een vals negatieve uitslag is superklein. Mits de persoon in kwestie de deze uitslag krijgt a priori de waarschijnlijkheid heeft die overeenkomt met die in de bevolking.\n",
    "\n",
    "Als je het Baysiaans aanpakt, en dat moet natuurlijk, dan heb je te maken met a priori kans dat iemand positief of negatief is en die wijkt af van het gemiddelde onder de bevolking.\n",
    "\n",
    "Zo is te kans op positief testen bij mensen die zich laten testen groter dan van de gemiddelde bevolking, omdat de meesten een goede reden zullen hebben om zich te laten testen, of omdat ze ergens zij geweest met een hogere besmettingsgraad of omdat zij klachten hebben.\n",
    "\n",
    "P(a|b) = P(ab) / P(b)\n",
    "P(b|a) = P(ab) / P(a)\n",
    "P(p|bg) = P(bg|p) P(bg) / P(p)"
   ]
  }
 ],
 "metadata": {
  "kernelspec": {
   "display_name": "Python 3",
   "language": "python",
   "name": "python3"
  },
  "language_info": {
   "codemirror_mode": {
    "name": "ipython",
    "version": 3
   },
   "file_extension": ".py",
   "mimetype": "text/x-python",
   "name": "python",
   "nbconvert_exporter": "python",
   "pygments_lexer": "ipython3",
   "version": "3.7.5"
  }
 },
 "nbformat": 4,
 "nbformat_minor": 4
}
