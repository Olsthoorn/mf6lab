{
 "cells": [
  {
   "cell_type": "markdown",
   "metadata": {},
   "source": [
    "# Weerstand van een gat in een damwand\n",
    "\n",
    "Vraag van Jos Beemster (28-04-2020) naar aanleiding om toestroming door een damwand rond Vondelpark in Amsterdam in stand te houden door deze van gaten te voorzien.\n",
    "\n",
    "Theo Olsthoorn, 1-05-2020"
   ]
  },
  {
   "cell_type": "markdown",
   "metadata": {},
   "source": [
    "## Simplistische benadering\n",
    "\n",
    "Deze zegt dat het water dat toestroomt over een gebied met oppervlak A door een gat moet met diameter d.\n",
    "\n",
    "We kunnen dit simplistisch benaderen door te zeggen dat de de weerstand die de stroming ondervindt om te vernauween van oppervlak A tot het vlakje met diameter d bij benadering is als die door een halve bol met buiten oppervlak $A$ en binnenoppervlak $\\pi d^2$\n",
    "\n",
    "Voor de stroming door een halve bol (opp. $2 \\pi r^2$) geldt (Q onttrekking positief, dus als $d\\phi / dr > 0:$\n",
    "\n",
    "$$ Q = 2 \\pi r^2 k \\frac {d \\phi} {dr}$$\n",
    "\n",
    "zodat\n",
    "\n",
    "$$ \\frac Q {2 \\pi k r^2} dr = d\\phi$$\n",
    "\n",
    "$$ \\frac Q {2 \\pi k} \\intop_{r_1}^{r_2} \\frac {dr}{r^2} = \\intop_{\\phi_1}^{\\phi_2} d\\phi $$"
   ]
  },
  {
   "cell_type": "markdown",
   "metadata": {},
   "source": [
    "$$- \\frac  Q {2 \\pi k}\\left(\\frac 1 {r_2} - \\frac 1 {r_1}\\right) = \\phi_2 - \\phi_1 $$"
   ]
  },
  {
   "cell_type": "markdown",
   "metadata": {},
   "source": [
    "En verder dat dit stijghoogteverval overeenkomt met de normale doorstroming over een lengte $\\frac 1 2 L$ (want her verlies is aan beide kanten van de damwand even groot):\n",
    "\n",
    "$$ q = 2 k \\frac {\\phi_2 - \\phi_1} L$$\n",
    "\n",
    "zodat met $q = Q/A$\n",
    "\n",
    "$$\\phi_2 - \\phi_1 = L \\frac q {2 k} = L \\frac Q {2 A k}$$"
   ]
  },
  {
   "cell_type": "markdown",
   "metadata": {},
   "source": [
    "Gelijkstelling van het stijghoogteverval bij uniforme stroming over een lengte $L$ met dat bij doorstroming van een halve bol tussen radius $r_2$ n radius $r_1$ levert\n",
    "\n",
    "$$ L \\frac Q {2Ak} = \\frac Q {2 \\pi k} \\left(\\frac 1 {r_1} - \\frac 1 {r_2}\\right)$$"
   ]
  },
  {
   "cell_type": "markdown",
   "metadata": {},
   "source": [
    "Waaruit een expressie voor $L$ volgt\n",
    "\n",
    "$$ L = \\frac A {\\pi} \\left(\\frac 1 {r_1} - \\frac 1 {r_2} \\right)$$\n"
   ]
  },
  {
   "cell_type": "markdown",
   "metadata": {},
   "source": [
    "Dit geldt dus voor de stroming van een halve bol met straal $r_2$ naar een halve bol met straal $r_1$ en natuurlijk plus die voor de stroming van een halve bol met straal $r_1$ tot aan de halve bol met straal $r_2$, immers we hebben $L$ gedefinieerd als $ \\frac 1 2 L = k \\frac {\\phi_2 - \\phi_1} q$, zodat $L$ de totale lengte is voor en achter de wand met het gat. De vraag is nu alleen wat $r_1$ en $r_2$ nu zijn. Hoe vertalen we het vlakke schijfvormige gat met straal $R$ naar de halve bol met straal $r_$? zodat de stroming in beide gevallen dezelfde weerstand ondervindt. Dit is niet zomaar duidelijk, maar een benadering is door het doorstroomde oppervlak in beide situaties aan elkaar gelijk te nemen dus\n",
    "\n",
    "$$ \\pi R^2 \\approx 2 \\pi r_1^2$$\n",
    "\n",
    "zodat $r_1 = \\frac R {\\sqrt{2}}$, waardoor de straal van de bol kleiner is dan die van de schijf om dezelfde weerstand te hebben. Deze benadering kan nooit exact zijn, maar is een opportunistische benadering, en waarschijnlijk ruim voldoende voor deze situatie.\n",
    "De tweede vraag is hoe te komen van het oppervlak A naar de halve bol met radius $r_2$? Dat is nog wat minder duidelijk omdat de vorm van $A$ beplaad wordt door de hoogte van de wand en de tussenafstand van de gaten. En verder geldt ook hier dat de wand vlak is en de bol rond. Mijn voorstel is om het oppervlak $A$ gelijk te zetten aan die van een schijf met hetzelfde oppervlak, dus\n",
    "\n",
    "$$A \\approx \\pi r_2^2$$\n",
    "\n",
    "zodat $r_2 \\approx \\sqrt{\\frac A \\pi}$\n",
    "\n",
    "Zodat\n",
    "\n",
    "$$ L \\approx \\frac {\\sqrt{2} A} {\\pi R} - \\sqrt{\\frac A \\pi}$$\n",
    "\n",
    "$$ L \\approx 0.45 \\frac A R - 0.56 \\sqrt A $$\n",
    "\n",
    "met diameter van het gat $D = 0.5 R$ krijgen we\n",
    "\n",
    "\n",
    "$$ L \\approx 0.9 \\frac A D - 0.56 \\sqrt A $$\n",
    "\n",
    "Alle onnauwkeurigheden in acht genomen is een praktische formule deze\n",
    "\n",
    "$$ L \\approx \\frac A D - 0.5 \\sqrt A$$"
   ]
  },
  {
   "cell_type": "markdown",
   "metadata": {},
   "source": [
    "Voorbeeld:"
   ]
  },
  {
   "cell_type": "code",
   "execution_count": 31,
   "metadata": {},
   "outputs": [
    {
     "name": "stdout",
     "output_type": "stream",
     "text": [
      "L = 0.9 A  / D - 0.56 sqrt(A) = 9.83 m\n",
      "L =     A  / D  -0.5  sqrt(A) = 11.13 m\n"
     ]
    }
   ],
   "source": [
    "import numpy as np\n",
    "\n",
    "A, D = 3, 0.25\n",
    "\n",
    "print(f'L = 0.9 A  / D - 0.56 sqrt(A) = {0.9 * A/ D - 0.56 * np.sqrt(A):.2f} m')\n",
    "print(f'L =     A  / D  -0.5  sqrt(A) = {      A /D - 0.5  * np.sqrt(A):.2f} m')\n"
   ]
  },
  {
   "cell_type": "markdown",
   "metadata": {},
   "source": [
    "Dus de eenvoudige formule overschat $L$ dus met iets meer dan 10% (13%)."
   ]
  },
  {
   "cell_type": "markdown",
   "metadata": {},
   "source": [
    "## Hoe dicht zit de benadering van de stroming naar tot schijf platgeslagen bol bij de exacte oplossing met het exacte debiet van Bruggeman?\n",
    "\n",
    "De stijhogteafname $\\Delta \\phi$ van oneindig naar een halve bol met radius $r_1$ is \n",
    "\n",
    "$$\\Delta \\phi_{bol} = \\frac Q {2 \\pi k r_1} = 0.16 \\frac Q k$$\n",
    "\n",
    "Volgens Bruggeman is de stijghoogteafname van oneindig naar een vlakke schrijf met radius $R$ gelijk aan\n",
    "\n",
    "$$\\Delta \\phi_{Brug} = \\frac Q {4 k R} = 0.25 \\frac Q k$$"
   ]
  },
  {
   "cell_type": "markdown",
   "metadata": {},
   "source": [
    "Echter neem het oppervlak van de bol en de schrijf aan elkaar gelijk, $\\pi R^2 = 2 \\pi r_1^2$,  zodat $r_1 = \\frac R {\\sqrt{2}}$\n",
    "\n",
    "$$\\Delta \\phi_{schijf} \\approx \\frac {\\sqrt{2} Q} {2 \\pi k R} $ = 0.225 \\frac Q k$$\n",
    "\n",
    "Met andere woorden de benadering is vrij goed, haalt 90% van die van Bruggeman, voldoende lijkt me voor toepassing in de praktijk"
   ]
  },
  {
   "cell_type": "markdown",
   "metadata": {},
   "source": [
    "Het is uiteraard mogelijk om die numeriek nauwkeuriger te bepalen. Maar ik denk dat het verschil heel klein zal zijn, veel minder dan waarmee je bijvoorbeelde de pakketdikte en of de doorlatendheid kent."
   ]
  },
  {
   "cell_type": "code",
   "execution_count": null,
   "metadata": {},
   "outputs": [],
   "source": []
  }
 ],
 "metadata": {
  "kernelspec": {
   "display_name": "Python 3",
   "language": "python",
   "name": "python3"
  },
  "language_info": {
   "codemirror_mode": {
    "name": "ipython",
    "version": 3
   },
   "file_extension": ".py",
   "mimetype": "text/x-python",
   "name": "python",
   "nbconvert_exporter": "python",
   "pygments_lexer": "ipython3",
   "version": "3.7.5"
  }
 },
 "nbformat": 4,
 "nbformat_minor": 2
}
