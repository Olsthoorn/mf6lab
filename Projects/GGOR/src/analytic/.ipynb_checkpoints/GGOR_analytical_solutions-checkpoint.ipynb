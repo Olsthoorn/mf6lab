{
 "cells": [
  {
   "cell_type": "markdown",
   "metadata": {},
   "source": [
    "# Analyical transient simulations of cross sections between parallel ditches"
   ]
  },
  {
   "cell_type": "markdown",
   "metadata": {},
   "source": [
    "Created on Tue May 22 10:58:55 2018\n",
    "\n",
    "Names of the different analytial solutions:\n",
    "\n",
    "    l + [1|2] + [q]f] [+ W]\n",
    "    This tells that the solution has 1 or 2 computed layers and the boundary\n",
    "    condition in the underlying regional aquifer is eigher seepge (q) or head\n",
    "    (f) and that it has or does not have entry/outflo resistance at the ditch.\n",
    "\n",
    "    So we can name solutions as follows\n",
    "    l1q, l2q, l1f l2f, l1qw, l1fw, l2f2, l2qw\n",
    "\n",
    "@author: Theo\n",
    "\"\"\""
   ]
  },
  {
   "cell_type": "code",
   "execution_count": 25,
   "metadata": {},
   "outputs": [],
   "source": [
    "import os\n",
    "import numpy as np\n",
    "import pandas as pd\n",
    "import matplotlib.pyplot as plt"
   ]
  },
  {
   "cell_type": "code",
   "execution_count": 26,
   "metadata": {},
   "outputs": [],
   "source": [
    "def get_meteo(csvfile):\n",
    "    '''Return meteo pd.DataFrame'''\n",
    "\n",
    "    data = pd.read_csv(csvfile, delim_whitespace=True, names=['date', 'P', 'E'],\n",
    "                        index_col=0, parse_dates=True, dayfirst=True)\n",
    "    data['P'] /= 1000. # to m/d\n",
    "    data['E'] /= 1000. # to m/d\n",
    "    return data"
   ]
  },
  {
   "cell_type": "markdown",
   "metadata": {},
   "source": [
    "## Property template"
   ]
  },
  {
   "cell_type": "markdown",
   "metadata": {},
   "source": [
    "Template **dict** contains the spatial and hydraulic properties of the parcel. It, therefore, has to be given with any parcel to be solved."
   ]
  },
  {
   "cell_type": "code",
   "execution_count": 27,
   "metadata": {},
   "outputs": [],
   "source": [
    "template = {'L': 100, # distance between the parallel ditches\n",
    "           'bd': 1.0, # width of each ditch\n",
    "\n",
    "           'z0': 0.0, # elevation of ground surfacee\n",
    "           'zd': -0.6, # elevation of bottom of ditch\n",
    "           'z1': -11, # elevation of bottom of cover layer\n",
    "           'z2': -50, # elevation of bottom of second layer\n",
    "\n",
    "           'Sy': 0.1, # specific yield of cover layer\n",
    "           'S2': 0.001, # elastic storage coeff. for second layer\n",
    "\n",
    "           'kh1': 2, # horizontal conductivity of cover layer\n",
    "           'kv1': 0.2, # vertical conductivity of cover layer\n",
    "           'kh2': 25, # horizontal conductivity of regional aquifer\n",
    "           'kv2': 10, # vertical conductivity of regional aquifer\n",
    "\n",
    "           'c': 100, # vertical resistance at bottom of cover layer\n",
    "           'w': 0, # entry resistance of dich (as a vertical wall) [L]\n",
    "\n",
    "           }"
   ]
  },
  {
   "cell_type": "markdown",
   "metadata": {},
   "source": [
    "## Analytical simulation of a single layer"
   ]
  },
  {
   "cell_type": "markdown",
   "metadata": {},
   "source": [
    "The single_layer solution function below is a stand-alone function, that can easily be used outside the context of the GGOR solution class. It's called from the instantiated solution by its method `solve`."
   ]
  },
  {
   "cell_type": "code",
   "execution_count": 28,
   "metadata": {},
   "outputs": [],
   "source": [
    "def simulate_single_Layer(name, props=None, time_data=None):\n",
    "    '''Return results for solution 1 layer given upward seepage\n",
    "\n",
    "    parameters\n",
    "    ----------\n",
    "        name: str\n",
    "            solution name, one of ['lq1', 'lq1w']\n",
    "            'l1'  : Single layer with no seepage.\n",
    "            'l1q' : Single layer with upward seepage no ditch resistance\n",
    "            'l1qw': Single layer with upward seepage with ditch resistance\n",
    "            'l1h' : Single layer with given head in regional aquifer\n",
    "            'l1hw': Same but with ditch resistance.\n",
    "            'l2q  : Two aquifer system with given seepage from lower aquifer'\n",
    "            'l2qw': Same but with ditch resistance\n",
    "            time_data: pd.DataFrame\n",
    "                required fields: hLR, N, q or h, optional P, E, I\n",
    "\n",
    "        The resistance between cover layer and regional aquifer is concentrated\n",
    "        in the given cover-layer resistance 'c' at the bottom of the cover layer.\n",
    "    '''\n",
    "\n",
    "    L, c, mu = props['L'], props['c'], props['Sy']\n",
    "    k, D, b  = props['kh1'], np.abs(props['z1'] - props['z0']), L / 2\n",
    "    lamb     = np.sqrt(k * D * c)\n",
    "    Lamb     = np.tanh(b / lamb) / (b / lamb)\n",
    "\n",
    "    if name in ['l1q', 'l1f']: # no ditch resistance\n",
    "        T = mu * c * (1 - Lamb) / Lamb\n",
    "    elif name in ['l1qw', 'l1fw']: # with ditch resistance\n",
    "        w = props['w'] # not yet difference between in- and out-resistance\n",
    "        B = 1 / (k * b * w / lamb**2 + b/lamb / np.tanh(b/lamb) - 1) + 1\n",
    "        T = mu * c / (B - 1)\n",
    "    else:\n",
    "        raise ValueError(\"Don't recognize solution name <{}>\".format(name))\n",
    "\n",
    "    hLR, N = time_data['hLR'].values, time_data['N'].values,\n",
    "\n",
    "    if name in ['l1f', 'l1fw']: # head is given\n",
    "        Q = - (hLR - time_data['f'].values) / c\n",
    "    else: # seepage given\n",
    "        Q = time_data['q'].values\n",
    "\n",
    "    # Times in days since start of day given by the first\n",
    "    times = time_data.index - time_data.index[0] + pd.Timedelta(1, 'D')\n",
    "\n",
    "    # t includes start point one day before first time in days\n",
    "    t = np.hstack((0, np.asarray(np.asarray(times,\n",
    "                                        dtype='timedelta64[D]'), dtype=float)))\n",
    "\n",
    "    DT = np.diff(t)\n",
    "    h = np.zeros(len(t)) # initialize h\n",
    "    h[0] = hLR[0] # intiial head at start of day 1.\n",
    "\n",
    "    # Integration\n",
    "    for i, (dt, hlr, n , q) in enumerate(zip(DT, hLR, N, Q)):\n",
    "        e = np.exp(-dt/T)\n",
    "        h[i + 1] = hlr + (h[i] - hlr) * e + (n + q) * T/mu * (1 - e)\n",
    "\n",
    "    # Keep only h[1:] and put this in time_data as column 'h'\n",
    "    time_data['h'] = h[1:]\n",
    "\n",
    "    return time_data"
   ]
  },
  {
   "cell_type": "markdown",
   "metadata": {},
   "source": [
    "## Solution class"
   ]
  },
  {
   "cell_type": "markdown",
   "metadata": {},
   "source": [
    "This is the base class for all analytic solutions, from which more specified classes will be derived. Each solution class must be given a name. Then a solution is an instantiation of this class with data for a specific parcel given in a template dict."
   ]
  },
  {
   "cell_type": "code",
   "execution_count": 36,
   "metadata": {},
   "outputs": [],
   "source": [
    "class Solution:\n",
    "    '''Analytic solution object. Allows simulation head betweeen parallel\n",
    "    ditches in a one or two-layer aquifer system.\n",
    "    The outcome is the average head in the cross section over time and its\n",
    "    running water budget. Or the head as a function of x in the cross section\n",
    "    for the input data averaged over time according to the input.\n",
    "\n",
    "    template = {'b': 100, # distance between the parallel ditches\n",
    "               'bd': 1.0, # width of each ditch\n",
    "\n",
    "               'z0': 0.0, # elevation of ground surfacee\n",
    "               'zd': -0.6, # elevation of bottom of ditch\n",
    "               'z1': -11, # elevation of bottom of cover layer\n",
    "               'z2': -50, # elevation of bottom of second layer\n",
    "\n",
    "               'Sy': 0.1, # specific yield of cover layer\n",
    "               'S2': 0.001, # elastic storage coeff. for second layer\n",
    "\n",
    "               'kh1': 2, # horizontal conductivity of cover layer\n",
    "               'kv1': 0.2, # vertical conductivity of cover layer\n",
    "               'kh2': 25, # horizontal conductivity of regional aquifer\n",
    "               'kv2': 10, # vertical conductivity of regional aquifer\n",
    "\n",
    "               'w':   20, # ditch resistance as that of a vertical wall\n",
    "               }\n",
    "    '''\n",
    "\n",
    "    def __init__(self, solution_name=None, properties=template):\n",
    "        '''Return an instance of an analytical solution only storing name and properties.\n",
    "\n",
    "        parameters\n",
    "        ----------\n",
    "            template: dict\n",
    "                a dict containing the properrties. The necessary properties\n",
    "                are given in the example template in doc text of this class.\n",
    "                Not all will be used by by all solutions. Unsued properties\n",
    "                may be omitted from the actual template.\n",
    "        '''\n",
    "        self.properties = template\n",
    "        self.solution_name = solution_name\n",
    "    \n",
    "    def check_time_data(self, time_data):\n",
    "        '''Return time_data such that it contains the data required for the simulation'''\n",
    "        \n",
    "        solution_names = 'l1q l2q l1h l2h l1qw l1hw l2h2 l2qw'.split()\n",
    "        \n",
    "        if solution_name not in solution_names:\n",
    "            raise ValueError('solution name not in: [{}]'.\n",
    "                            format(' '.join(solution_names)))\n",
    "        # Get the recharge N\n",
    "        if not 'N' in time_data.columns:\n",
    "            time_data['N'] = time_data['P']\n",
    "            try:\n",
    "                time_data['N'] -= time_data['E'] # in case E is specified\n",
    "            except:\n",
    "                pass\n",
    "            try:\n",
    "                time_data['N'] -= time_data['I'] # in case interception is specified\n",
    "            except:\n",
    "                pass\n",
    "        else:\n",
    "            raise ValueError(\"Can't compute recharge N from time_data\")\n",
    "\n",
    "        # Veriry presence of 'q' in time_data\n",
    "        if 'q' in solution_name:\n",
    "            if not 'q' in time_data.columns:\n",
    "                raise ValueError('q missing in time_data (vertical seepage from regional aquifer).')\n",
    "        if 'h' in solution_name:\n",
    "            if not 'h' in time_data.columns:\n",
    "                raise ValueError('h missing in time_data (head in regional aquifer)')\n",
    "        if not 'hLR' in time_data.columns:\n",
    "            raise ValueError('hLR missing in time_data (ditch water elevation).')\n",
    "            \n",
    "        return time_data\n",
    "\n",
    "    \n",
    "    def plot(self, what='h', **kwargs):\n",
    "        '''Plot column of time_data (simulated or not) on current axes\n",
    "\n",
    "        Plot setup and its embelishment are not the responsibility\n",
    "        of this method.\n",
    "\n",
    "        kwargs\n",
    "        ------\n",
    "            what: one-letter string, default 'h'\n",
    "                what to plot, must be a column of time_delta\n",
    "            time_delta: pf.DataFrame with the time data\n",
    "                columns must contain required input (see method check)\n",
    "            additional kwargs:\n",
    "                will be passed on to plt.plot(..., **kwargs)\n",
    "        returns\n",
    "        -------\n",
    "            hdl to line\n",
    "\n",
    "        '''\n",
    "        if 'time_data' in kwargs:\n",
    "            # Then run self.solve first\n",
    "            time_data = super().check(kwargs.pop('time_data'))\n",
    "            self.time_data = self.solve(time_data)\n",
    "\n",
    "        what = kwargs.pop('what', 'h')\n",
    "\n",
    "        return plt.gca().plot(self.time_data.index, self.time_data[what], **kwargs)\n",
    "\n",
    "   \n",
    "class L1q(Solution):\n",
    "    def __init__(self, properties=None):\n",
    "        self.name = 'l1q'\n",
    "\n",
    "        super().__init__(solution_name=self.name, properties=properties)\n",
    "\n",
    "    def solve(self, time_data):\n",
    "        '''Store time_data with simulated column added\n",
    "\n",
    "        parameters\n",
    "        ----------\n",
    "            time_data: pd.DataFrame\n",
    "                columns must indicate time data required for simulation,\n",
    "                see method check(..)\n",
    "        returns\n",
    "        -------\n",
    "            None\n",
    "        '''\n",
    "\n",
    "        self.time_data = simulate_single_Layer(self.name, props=prperties,\n",
    "                                          time_data=super.check(self.name, time_data))\n",
    "        return None    "
   ]
  },
  {
   "cell_type": "code",
   "execution_count": 37,
   "metadata": {},
   "outputs": [
    {
     "ename": "NameError",
     "evalue": "name 'time_data' is not defined",
     "output_type": "error",
     "traceback": [
      "\u001b[0;31m---------------------------------------------------------------------------\u001b[0m",
      "\u001b[0;31mNameError\u001b[0m                                 Traceback (most recent call last)",
      "\u001b[0;32m<ipython-input-37-d0c38b61b6e4>\u001b[0m in \u001b[0;36m<module>\u001b[0;34m\u001b[0m\n\u001b[1;32m     16\u001b[0m     \u001b[0;31m# generate solution index pass its properties\u001b[0m\u001b[0;34m\u001b[0m\u001b[0;34m\u001b[0m\u001b[0;34m\u001b[0m\u001b[0m\n\u001b[1;32m     17\u001b[0m     \u001b[0mparcel001\u001b[0m \u001b[0;34m=\u001b[0m \u001b[0mL1q\u001b[0m\u001b[0;34m(\u001b[0m\u001b[0mproperties\u001b[0m\u001b[0;34m=\u001b[0m\u001b[0mtemplate\u001b[0m\u001b[0;34m)\u001b[0m\u001b[0;34m\u001b[0m\u001b[0;34m\u001b[0m\u001b[0m\n\u001b[0;32m---> 18\u001b[0;31m     \u001b[0mparcel001\u001b[0m\u001b[0;34m.\u001b[0m\u001b[0msolve\u001b[0m\u001b[0;34m(\u001b[0m\u001b[0mtime_data\u001b[0m\u001b[0;34m.\u001b[0m\u001b[0mcopy\u001b[0m\u001b[0;34m(\u001b[0m\u001b[0;34m)\u001b[0m\u001b[0;34m)\u001b[0m\u001b[0;34m\u001b[0m\u001b[0;34m\u001b[0m\u001b[0m\n\u001b[0m\u001b[1;32m     19\u001b[0m \u001b[0;34m\u001b[0m\u001b[0m\n\u001b[1;32m     20\u001b[0m     \u001b[0mparcel002\u001b[0m \u001b[0;34m=\u001b[0m \u001b[0mL1qw\u001b[0m\u001b[0;34m(\u001b[0m\u001b[0mprperties\u001b[0m\u001b[0;34m=\u001b[0m\u001b[0mtimeplate\u001b[0m\u001b[0;34m)\u001b[0m\u001b[0;34m\u001b[0m\u001b[0;34m\u001b[0m\u001b[0m\n",
      "\u001b[0;31mNameError\u001b[0m: name 'time_data' is not defined"
     ]
    }
   ],
   "source": [
    "if __name__ == '__main__':\n",
    "\n",
    "    home = '/Users/Theo/GRWMODELS/python/GGOR/'\n",
    "\n",
    "    metfile = os.path.join(home, 'meteo/PE-00-08.txt')\n",
    "    data    = get_meteo(metfile)\n",
    "\n",
    "    data['P'] = 0.005\n",
    "    data['E'] = 0.\n",
    "\n",
    "    data['hLR'] = 0. # add 'hLR' to data\n",
    "    data[  'q'] = 0. # add '  q' to data\n",
    "    data[  'h'] = 0. # add 'h'   to data\n",
    "\n",
    "\n",
    "    # generate solution index pass its properties\n",
    "    parcel001 = L1q(properties=template)\n",
    "    parcel001.solve(time_data=data.copy())\n",
    "\n",
    "    parcel002 = L1qw(prperties=timeplate)\n",
    "    parcel002.solve(time_data=data.copy())\n",
    "    \n",
    "    #data3 = mySolution.solve(solution_name='l1h', time_data=data.copy())\n",
    "    #data4 = mySolution.solve(solution_name='l1hw', time_data=data.copy())\n",
    "\n",
    "\n",
    "    # This shows that both solutions yield the same values of w == 0.\n",
    "    fig, ax = plt.subplots()\n",
    "    ax.set_title('Mean groundwater head in cross section, solution \"l1q\"')\n",
    "    ax.set_xlabel('time')\n",
    "    ax.set_ylabel('head, elevation [m]')\n",
    "    ax.grid()\n",
    "\n",
    "    parcel001.plot('rx', what='h', label='no ditch resistance')\n",
    "    parcel002.plot('b.', what='h', label='with ditch resistance')\n",
    "\n",
    "    #ax.plot(data3.index, data2['h'], 'b.', label='with ditch resistance')\n",
    "    #ax.plot(data4.index, data2['h'], 'b.', label='with ditch resistance')\n",
    "    ax.set_xlim((data1.index[0], data1.index[0] + np.timedelta64(30, 'D')))\n",
    "    ax.legend()"
   ]
  },
  {
   "cell_type": "code",
   "execution_count": 15,
   "metadata": {},
   "outputs": [
    {
     "data": {
      "text/plain": [
       "\u001b[0;31mInit signature:\u001b[0m \u001b[0mValueError\u001b[0m\u001b[0;34m(\u001b[0m\u001b[0mself\u001b[0m\u001b[0;34m,\u001b[0m \u001b[0;34m/\u001b[0m\u001b[0;34m,\u001b[0m \u001b[0;34m*\u001b[0m\u001b[0margs\u001b[0m\u001b[0;34m,\u001b[0m \u001b[0;34m**\u001b[0m\u001b[0mkwargs\u001b[0m\u001b[0;34m)\u001b[0m\u001b[0;34m\u001b[0m\u001b[0;34m\u001b[0m\u001b[0m\n",
       "\u001b[0;31mDocstring:\u001b[0m      Inappropriate argument value (of correct type).\n",
       "\u001b[0;31mType:\u001b[0m           type\n",
       "\u001b[0;31mSubclasses:\u001b[0m     UnicodeError, UnsupportedOperation, JSONDecodeError, ClassNotFound, Error, AddressValueError, NetmaskValueError, CertificateError, ClipboardEmpty, MessageDefect, ...\n"
      ]
     },
     "metadata": {},
     "output_type": "display_data"
    }
   ],
   "source": [
    "ValueError?"
   ]
  },
  {
   "cell_type": "code",
   "execution_count": null,
   "metadata": {},
   "outputs": [],
   "source": []
  }
 ],
 "metadata": {
  "kernelspec": {
   "display_name": "Python 3",
   "language": "python",
   "name": "python3"
  },
  "language_info": {
   "codemirror_mode": {
    "name": "ipython",
    "version": 3
   },
   "file_extension": ".py",
   "mimetype": "text/x-python",
   "name": "python",
   "nbconvert_exporter": "python",
   "pygments_lexer": "ipython3",
   "version": "3.6.7"
  }
 },
 "nbformat": 4,
 "nbformat_minor": 2
}
