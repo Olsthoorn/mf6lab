{
 "cells": [
  {
   "cell_type": "markdown",
   "metadata": {},
   "source": [
    "This notbooks does a GGOR run using the python code in gg_mflow.py. The code in this notebook is essentially the same as in the mentioned gg_mflow.py after \"if __name__ == __main__', but commented for explanation.\n",
    "\n",
    "Theo Olsthoorn, Aug. 2023"
   ]
  },
  {
   "cell_type": "code",
   "execution_count": 1,
   "metadata": {},
   "outputs": [],
   "source": [
    "import os\n",
    "import numpy as np\n",
    "import pandas as pd\n",
    "import matplotlib.pyplot as plt\n",
    "import flopy\n",
    "import gg_mflow as gg\n",
    "from importlib import reload"
   ]
  },
  {
   "cell_type": "code",
   "execution_count": 2,
   "metadata": {},
   "outputs": [
    {
     "data": {
      "text/plain": [
       "<module 'gg_mflow' from '/Users/Theo/GRWMODELS/python/GGOR/src/numeric/gg_mflow.py'>"
      ]
     },
     "execution_count": 2,
     "metadata": {},
     "output_type": "execute_result"
    }
   ],
   "source": [
    "reload(gg)"
   ]
  },
  {
   "cell_type": "markdown",
   "metadata": {},
   "source": [
    "Set parameter `test` to `False` to use the database, else generated test meteo  data and a selection of parcels from the database are used."
   ]
  },
  {
   "cell_type": "code",
   "execution_count": 3,
   "metadata": {},
   "outputs": [],
   "source": [
    "test=False\n",
    "case = 'AAN_GZK'"
   ]
  },
  {
   "cell_type": "markdown",
   "metadata": {},
   "source": [
    "Setup the data and the model"
   ]
  },
  {
   "cell_type": "code",
   "execution_count": 4,
   "metadata": {},
   "outputs": [
    {
     "name": "stdout",
     "output_type": "stream",
     "text": [
      "File </Users/Theo/GRWMODELS/python/GGOR/data/meteo/weer240_20100101_20191231.txt> exists, download was skipped.\n"
     ]
    },
    {
     "ename": "ImportError",
     "evalue": "Missing optional dependency 'openpyxl'.  Use pip or conda to install openpyxl.",
     "output_type": "error",
     "traceback": [
      "\u001b[0;31m---------------------------------------------------------------------------\u001b[0m",
      "\u001b[0;31mModuleNotFoundError\u001b[0m                       Traceback (most recent call last)",
      "File \u001b[0;32m~/miniconda3/envs/ggor/lib/python3.11/site-packages/pandas/compat/_optional.py:142\u001b[0m, in \u001b[0;36mimport_optional_dependency\u001b[0;34m(name, extra, errors, min_version)\u001b[0m\n\u001b[1;32m    141\u001b[0m \u001b[39mtry\u001b[39;00m:\n\u001b[0;32m--> 142\u001b[0m     module \u001b[39m=\u001b[39m importlib\u001b[39m.\u001b[39;49mimport_module(name)\n\u001b[1;32m    143\u001b[0m \u001b[39mexcept\u001b[39;00m \u001b[39mImportError\u001b[39;00m:\n",
      "File \u001b[0;32m~/miniconda3/envs/ggor/lib/python3.11/importlib/__init__.py:126\u001b[0m, in \u001b[0;36mimport_module\u001b[0;34m(name, package)\u001b[0m\n\u001b[1;32m    125\u001b[0m         level \u001b[39m+\u001b[39m\u001b[39m=\u001b[39m \u001b[39m1\u001b[39m\n\u001b[0;32m--> 126\u001b[0m \u001b[39mreturn\u001b[39;00m _bootstrap\u001b[39m.\u001b[39;49m_gcd_import(name[level:], package, level)\n",
      "File \u001b[0;32m<frozen importlib._bootstrap>:1204\u001b[0m, in \u001b[0;36m_gcd_import\u001b[0;34m(name, package, level)\u001b[0m\n",
      "File \u001b[0;32m<frozen importlib._bootstrap>:1176\u001b[0m, in \u001b[0;36m_find_and_load\u001b[0;34m(name, import_)\u001b[0m\n",
      "File \u001b[0;32m<frozen importlib._bootstrap>:1140\u001b[0m, in \u001b[0;36m_find_and_load_unlocked\u001b[0;34m(name, import_)\u001b[0m\n",
      "\u001b[0;31mModuleNotFoundError\u001b[0m: No module named 'openpyxl'",
      "\nDuring handling of the above exception, another exception occurred:\n",
      "\u001b[0;31mImportError\u001b[0m                               Traceback (most recent call last)",
      "Cell \u001b[0;32mIn[4], line 31\u001b[0m\n\u001b[1;32m     25\u001b[0m     parcel_data \u001b[39m=\u001b[39m parcel_data\u001b[39m.\u001b[39miloc[\u001b[39m0\u001b[39m:\u001b[39m4\u001b[39m]\n\u001b[1;32m     26\u001b[0m \u001b[39melse\u001b[39;00m:\n\u001b[1;32m     27\u001b[0m     \u001b[39m# Bofek data, coverting from Bofek codes to the soil properties kh, kv and sy.\u001b[39;00m\n\u001b[1;32m     28\u001b[0m     \u001b[39m# The BOFEK column represents a dutch standardized soil type. It is used.\u001b[39;00m\n\u001b[1;32m     29\u001b[0m     \u001b[39m# The corresponding values for 'kh', 'kv' and 'Sy' are currently read from\u001b[39;00m\n\u001b[1;32m     30\u001b[0m     \u001b[39m# an Excel worksheet into a pandas DataFrame (becoming a table)\u001b[39;00m\n\u001b[0;32m---> 31\u001b[0m     bofek \u001b[39m=\u001b[39m pd\u001b[39m.\u001b[39;49mread_excel(os\u001b[39m.\u001b[39;49mpath\u001b[39m.\u001b[39;49mjoin(dirs\u001b[39m.\u001b[39;49mbofek, \u001b[39m\"\u001b[39;49m\u001b[39mBOFEK eenheden.xlsx\u001b[39;49m\u001b[39m\"\u001b[39;49m),\n\u001b[1;32m     32\u001b[0m                           sheet_name \u001b[39m=\u001b[39;49m \u001b[39m'\u001b[39;49m\u001b[39mbofek\u001b[39;49m\u001b[39m'\u001b[39;49m, index_col\u001b[39m=\u001b[39;49m\u001b[39m0\u001b[39;49m, engine\u001b[39m=\u001b[39;49m\u001b[39m\"\u001b[39;49m\u001b[39mopenpyxl\u001b[39;49m\u001b[39m\"\u001b[39;49m)\n\u001b[1;32m     33\u001b[0m     \u001b[39m# Create a GGOR_modflow object and get the upgraded parcel_data from it,\u001b[39;00m\n\u001b[1;32m     34\u001b[0m     \u001b[39m# excluding parcels that are too small or too wide\u001b[39;00m\n\u001b[1;32m     35\u001b[0m     parcel_data \u001b[39m=\u001b[39m gg\u001b[39m.\u001b[39mGGOR_data(defaults\u001b[39m=\u001b[39mdefaults, bofek\u001b[39m=\u001b[39mbofek, BMINMAX\u001b[39m=\u001b[39m(\u001b[39m5\u001b[39m, \u001b[39m250\u001b[39m),\n\u001b[1;32m     36\u001b[0m             GGOR_home\u001b[39m=\u001b[39mGGOR_home, case\u001b[39m=\u001b[39mcase)\u001b[39m.\u001b[39mdata\n",
      "File \u001b[0;32m~/miniconda3/envs/ggor/lib/python3.11/site-packages/pandas/io/excel/_base.py:478\u001b[0m, in \u001b[0;36mread_excel\u001b[0;34m(io, sheet_name, header, names, index_col, usecols, dtype, engine, converters, true_values, false_values, skiprows, nrows, na_values, keep_default_na, na_filter, verbose, parse_dates, date_parser, date_format, thousands, decimal, comment, skipfooter, storage_options, dtype_backend)\u001b[0m\n\u001b[1;32m    476\u001b[0m \u001b[39mif\u001b[39;00m \u001b[39mnot\u001b[39;00m \u001b[39misinstance\u001b[39m(io, ExcelFile):\n\u001b[1;32m    477\u001b[0m     should_close \u001b[39m=\u001b[39m \u001b[39mTrue\u001b[39;00m\n\u001b[0;32m--> 478\u001b[0m     io \u001b[39m=\u001b[39m ExcelFile(io, storage_options\u001b[39m=\u001b[39;49mstorage_options, engine\u001b[39m=\u001b[39;49mengine)\n\u001b[1;32m    479\u001b[0m \u001b[39melif\u001b[39;00m engine \u001b[39mand\u001b[39;00m engine \u001b[39m!=\u001b[39m io\u001b[39m.\u001b[39mengine:\n\u001b[1;32m    480\u001b[0m     \u001b[39mraise\u001b[39;00m \u001b[39mValueError\u001b[39;00m(\n\u001b[1;32m    481\u001b[0m         \u001b[39m\"\u001b[39m\u001b[39mEngine should not be specified when passing \u001b[39m\u001b[39m\"\u001b[39m\n\u001b[1;32m    482\u001b[0m         \u001b[39m\"\u001b[39m\u001b[39man ExcelFile - ExcelFile already has the engine set\u001b[39m\u001b[39m\"\u001b[39m\n\u001b[1;32m    483\u001b[0m     )\n",
      "File \u001b[0;32m~/miniconda3/envs/ggor/lib/python3.11/site-packages/pandas/io/excel/_base.py:1513\u001b[0m, in \u001b[0;36mExcelFile.__init__\u001b[0;34m(self, path_or_buffer, engine, storage_options)\u001b[0m\n\u001b[1;32m   1510\u001b[0m \u001b[39mself\u001b[39m\u001b[39m.\u001b[39mengine \u001b[39m=\u001b[39m engine\n\u001b[1;32m   1511\u001b[0m \u001b[39mself\u001b[39m\u001b[39m.\u001b[39mstorage_options \u001b[39m=\u001b[39m storage_options\n\u001b[0;32m-> 1513\u001b[0m \u001b[39mself\u001b[39m\u001b[39m.\u001b[39m_reader \u001b[39m=\u001b[39m \u001b[39mself\u001b[39;49m\u001b[39m.\u001b[39;49m_engines[engine](\u001b[39mself\u001b[39;49m\u001b[39m.\u001b[39;49m_io, storage_options\u001b[39m=\u001b[39;49mstorage_options)\n",
      "File \u001b[0;32m~/miniconda3/envs/ggor/lib/python3.11/site-packages/pandas/io/excel/_openpyxl.py:548\u001b[0m, in \u001b[0;36mOpenpyxlReader.__init__\u001b[0;34m(self, filepath_or_buffer, storage_options)\u001b[0m\n\u001b[1;32m    533\u001b[0m \u001b[39m@doc\u001b[39m(storage_options\u001b[39m=\u001b[39m_shared_docs[\u001b[39m\"\u001b[39m\u001b[39mstorage_options\u001b[39m\u001b[39m\"\u001b[39m])\n\u001b[1;32m    534\u001b[0m \u001b[39mdef\u001b[39;00m \u001b[39m__init__\u001b[39m(\n\u001b[1;32m    535\u001b[0m     \u001b[39mself\u001b[39m,\n\u001b[1;32m    536\u001b[0m     filepath_or_buffer: FilePath \u001b[39m|\u001b[39m ReadBuffer[\u001b[39mbytes\u001b[39m],\n\u001b[1;32m    537\u001b[0m     storage_options: StorageOptions \u001b[39m=\u001b[39m \u001b[39mNone\u001b[39;00m,\n\u001b[1;32m    538\u001b[0m ) \u001b[39m-\u001b[39m\u001b[39m>\u001b[39m \u001b[39mNone\u001b[39;00m:\n\u001b[1;32m    539\u001b[0m \u001b[39m    \u001b[39m\u001b[39m\"\"\"\u001b[39;00m\n\u001b[1;32m    540\u001b[0m \u001b[39m    Reader using openpyxl engine.\u001b[39;00m\n\u001b[1;32m    541\u001b[0m \n\u001b[0;32m   (...)\u001b[0m\n\u001b[1;32m    546\u001b[0m \u001b[39m    {storage_options}\u001b[39;00m\n\u001b[1;32m    547\u001b[0m \u001b[39m    \"\"\"\u001b[39;00m\n\u001b[0;32m--> 548\u001b[0m     import_optional_dependency(\u001b[39m\"\u001b[39;49m\u001b[39mopenpyxl\u001b[39;49m\u001b[39m\"\u001b[39;49m)\n\u001b[1;32m    549\u001b[0m     \u001b[39msuper\u001b[39m()\u001b[39m.\u001b[39m\u001b[39m__init__\u001b[39m(filepath_or_buffer, storage_options\u001b[39m=\u001b[39mstorage_options)\n",
      "File \u001b[0;32m~/miniconda3/envs/ggor/lib/python3.11/site-packages/pandas/compat/_optional.py:145\u001b[0m, in \u001b[0;36mimport_optional_dependency\u001b[0;34m(name, extra, errors, min_version)\u001b[0m\n\u001b[1;32m    143\u001b[0m \u001b[39mexcept\u001b[39;00m \u001b[39mImportError\u001b[39;00m:\n\u001b[1;32m    144\u001b[0m     \u001b[39mif\u001b[39;00m errors \u001b[39m==\u001b[39m \u001b[39m\"\u001b[39m\u001b[39mraise\u001b[39m\u001b[39m\"\u001b[39m:\n\u001b[0;32m--> 145\u001b[0m         \u001b[39mraise\u001b[39;00m \u001b[39mImportError\u001b[39;00m(msg)\n\u001b[1;32m    146\u001b[0m     \u001b[39mreturn\u001b[39;00m \u001b[39mNone\u001b[39;00m\n\u001b[1;32m    148\u001b[0m \u001b[39m# Handle submodules: if we have submodule, grab parent module from sys.modules\u001b[39;00m\n",
      "\u001b[0;31mImportError\u001b[0m: Missing optional dependency 'openpyxl'.  Use pip or conda to install openpyxl."
     ]
    }
   ],
   "source": [
    "# Parameters to generate the model. Well use this as **kwargs\n",
    "GGOR_home = os.path.expanduser('~/GRWMODELS/python/GGOR') # home directory\n",
    "    \n",
    "\n",
    "#GGOR directory structure\n",
    "dirs = gg.Dir_struct(GGOR_home, case=case)\n",
    "\n",
    "#Get the meteo data from an existing file or directly from KNMI\n",
    "meteo_data = gg.knmi.get_weather(stn=240, start='20100101', end='20191231',\n",
    "                                  folder=dirs.meteo)\n",
    "\n",
    "# Add columns \"summer' and \"hyyear\" to it\"\n",
    "tdata = gg.handle_meteo_data(meteo_data, summer_start=4, summer_end=10)\n",
    "\n",
    "if test:\n",
    "    tdata = gg.gen_testdata(tdata=tdata,\n",
    "                          RH  =(270, 0.0, 0.002, 0.004),\n",
    "                          EV24=(180, 0.0, 0.001, 0.002),\n",
    "                          )\n",
    "\n",
    "    parcel_data = gg.get_test_parcels(os.path.join(\n",
    "                            dirs.case, 'pdata_test.xlsx'), 'parcel_tests1')\n",
    "\n",
    "    # Special test\n",
    "    parcel_data = parcel_data.iloc[0:4]\n",
    "else:\n",
    "    # Bofek data, coverting from Bofek codes to the soil properties kh, kv and sy.\n",
    "    # The BOFEK column represents a dutch standardized soil type. It is used.\n",
    "    # The corresponding values for 'kh', 'kv' and 'Sy' are currently read from\n",
    "    # an Excel worksheet into a pandas DataFrame (becoming a table)\n",
    "    bofek = pd.read_excel(os.path.join(dirs.bofek, \"BOFEK eenheden.xlsx\"),\n",
    "                          sheet_name = 'bofek', index_col=0, engine=\"openpyxl\")\n",
    "    # Create a GGOR_modflow object and get the upgraded parcel_data from it,\n",
    "    # excluding parcels that are too small or too wide\n",
    "    parcel_data = gg.GGOR_data(defaults=defaults, bofek=bofek, BMINMAX=(5, 250),\n",
    "            GGOR_home=GGOR_home, case=case).data"
   ]
  },
  {
   "cell_type": "markdown",
   "metadata": {},
   "source": [
    "Run MODFLOW. The input arrays are in the returned dicts."
   ]
  },
  {
   "cell_type": "code",
   "execution_count": null,
   "metadata": {},
   "outputs": [],
   "source": [
    "par, spd, bdd, gr =  gg.run_modflow(dirs=dirs, parcel_data=parcel_data, tdata=tdata,\n",
    "                                 use_w_not_c=True)"
   ]
  },
  {
   "cell_type": "markdown",
   "metadata": {},
   "source": [
    "Get the modflow-computed heads and cell by cell flows"
   ]
  },
  {
   "cell_type": "code",
   "execution_count": null,
   "metadata": {},
   "outputs": [],
   "source": [
    "\n",
    "heads = gg.Heads_obj(dirs, tdata=tdata, IBOUND=par['IBOUND'], gr=gr)\n",
    "\n",
    "watbal = gg.Watbal_obj(dirs,\n",
    "                       tdata=tdata,\n",
    "                       parcel_data=parcel_data,\n",
    "                       IBOUND=par['IBOUND'],\n",
    "                       gr=gr)"
   ]
  },
  {
   "cell_type": "markdown",
   "metadata": {},
   "source": [
    "Open HDS file and plot heads (with GXG)"
   ]
  },
  {
   "cell_type": "code",
   "execution_count": null,
   "metadata": {},
   "outputs": [],
   "source": [
    " if test:\n",
    "    for tst in set(parcel_data['Test'].values):\n",
    "        selection = list(parcel_data.index[parcel_data['Test'] == tst])\n",
    "        test_vals_str = '{}'.format(', '.join(\n",
    "            [str(tv) for tv in parcel_data[tst].iloc[selection]]))\n",
    "\n",
    "        titles=['Parcel averaged heads, testvar {} in [{}]'.format(tst, test_vals_str),\n",
    "                'Parcel averaged heads, testvar {} in [{}]'.format(tst, test_vals_str)]\n",
    "        ax = heads.plot(tdata=tdata,\n",
    "                       parcel_data=parcel_data,\n",
    "                       selection=selection,\n",
    "                       titles=titles,\n",
    "                       size_inches=(14, 8))\n",
    "        if False:\n",
    "            ax = watbal.plot(parcel_data=parcel_data,\n",
    "                             tdata=tdata,\n",
    "                             selection=selection[0],\n",
    "                             sharey=True)\n",
    "else:\n",
    "    selection = [0, 1, 2, 3]\n",
    "    titles=['Parcel averaged heads', 'Parcel averaged heads']\n",
    "    ax = heads.plot(tdata=tdata,\n",
    "           parcel_data=parcel_data,\n",
    "           selection=selection,\n",
    "           titles=titles,\n",
    "           size_inches=(14, 8))\n",
    "    ax = watbal.plot(parcel_data=parcel_data,\n",
    "                     tdata=tdata,\n",
    "                     selection=None,   # over all parcels\n",
    "                     sharey=True)"
   ]
  },
  {
   "cell_type": "markdown",
   "metadata": {},
   "source": [
    "Compute and show the running water buget over all parcells"
   ]
  },
  {
   "cell_type": "code",
   "execution_count": null,
   "metadata": {},
   "outputs": [],
   "source": [
    "ax = gg.watbal.plot(parcel_data=parcel_data,\n",
    "                     tdata=tdata,\n",
    "                     selection=None,   # over all parcels\n",
    "                     sharey=True)\n"
   ]
  }
 ],
 "metadata": {
  "kernelspec": {
   "display_name": "ggor",
   "language": "python",
   "name": "python3"
  },
  "language_info": {
   "codemirror_mode": {
    "name": "ipython",
    "version": 3
   },
   "file_extension": ".py",
   "mimetype": "text/x-python",
   "name": "python",
   "nbconvert_exporter": "python",
   "pygments_lexer": "ipython3",
   "version": "3.11.4"
  },
  "orig_nbformat": 4
 },
 "nbformat": 4,
 "nbformat_minor": 2
}
